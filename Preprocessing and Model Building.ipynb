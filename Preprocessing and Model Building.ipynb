{
 "cells": [
  {
   "cell_type": "code",
   "execution_count": 1,
   "id": "ab62c6e4",
   "metadata": {},
   "outputs": [],
   "source": [
    "#import libraries\n",
    "import numpy as np\n",
    "import pandas as pd\n",
    "import matplotlib.pyplot as plt\n",
    "import seaborn as sns\n",
    "%matplotlib inline\n",
    "import warnings\n",
    "warnings.filterwarnings('ignore')"
   ]
  },
  {
   "cell_type": "code",
   "execution_count": 2,
   "id": "96edbd27",
   "metadata": {},
   "outputs": [
    {
     "data": {
      "text/html": [
       "<div>\n",
       "<style scoped>\n",
       "    .dataframe tbody tr th:only-of-type {\n",
       "        vertical-align: middle;\n",
       "    }\n",
       "\n",
       "    .dataframe tbody tr th {\n",
       "        vertical-align: top;\n",
       "    }\n",
       "\n",
       "    .dataframe thead th {\n",
       "        text-align: right;\n",
       "    }\n",
       "</style>\n",
       "<table border=\"1\" class=\"dataframe\">\n",
       "  <thead>\n",
       "    <tr style=\"text-align: right;\">\n",
       "      <th></th>\n",
       "      <th>age</th>\n",
       "      <th>workclass</th>\n",
       "      <th>education</th>\n",
       "      <th>education-num</th>\n",
       "      <th>marital-status</th>\n",
       "      <th>occupation</th>\n",
       "      <th>relationship</th>\n",
       "      <th>race</th>\n",
       "      <th>sex</th>\n",
       "      <th>capital-gain</th>\n",
       "      <th>capital-loss</th>\n",
       "      <th>hours-per-week</th>\n",
       "      <th>native-country</th>\n",
       "      <th>salary</th>\n",
       "    </tr>\n",
       "  </thead>\n",
       "  <tbody>\n",
       "    <tr>\n",
       "      <th>0</th>\n",
       "      <td>39</td>\n",
       "      <td>State-gov</td>\n",
       "      <td>Bachelors</td>\n",
       "      <td>13</td>\n",
       "      <td>Never-married</td>\n",
       "      <td>Adm-clerical</td>\n",
       "      <td>Not-in-family</td>\n",
       "      <td>White</td>\n",
       "      <td>Male</td>\n",
       "      <td>2174</td>\n",
       "      <td>0</td>\n",
       "      <td>40</td>\n",
       "      <td>United-States</td>\n",
       "      <td>&lt;=50K</td>\n",
       "    </tr>\n",
       "    <tr>\n",
       "      <th>1</th>\n",
       "      <td>50</td>\n",
       "      <td>Self-emp-not-inc</td>\n",
       "      <td>Bachelors</td>\n",
       "      <td>13</td>\n",
       "      <td>Married-civ-spouse</td>\n",
       "      <td>Exec-managerial</td>\n",
       "      <td>Husband</td>\n",
       "      <td>White</td>\n",
       "      <td>Male</td>\n",
       "      <td>0</td>\n",
       "      <td>0</td>\n",
       "      <td>13</td>\n",
       "      <td>United-States</td>\n",
       "      <td>&lt;=50K</td>\n",
       "    </tr>\n",
       "    <tr>\n",
       "      <th>2</th>\n",
       "      <td>38</td>\n",
       "      <td>Private</td>\n",
       "      <td>HS-grad</td>\n",
       "      <td>9</td>\n",
       "      <td>Divorced</td>\n",
       "      <td>Handlers-cleaners</td>\n",
       "      <td>Not-in-family</td>\n",
       "      <td>White</td>\n",
       "      <td>Male</td>\n",
       "      <td>0</td>\n",
       "      <td>0</td>\n",
       "      <td>40</td>\n",
       "      <td>United-States</td>\n",
       "      <td>&lt;=50K</td>\n",
       "    </tr>\n",
       "    <tr>\n",
       "      <th>3</th>\n",
       "      <td>53</td>\n",
       "      <td>Private</td>\n",
       "      <td>11th</td>\n",
       "      <td>7</td>\n",
       "      <td>Married-civ-spouse</td>\n",
       "      <td>Handlers-cleaners</td>\n",
       "      <td>Husband</td>\n",
       "      <td>Black</td>\n",
       "      <td>Male</td>\n",
       "      <td>0</td>\n",
       "      <td>0</td>\n",
       "      <td>40</td>\n",
       "      <td>United-States</td>\n",
       "      <td>&lt;=50K</td>\n",
       "    </tr>\n",
       "    <tr>\n",
       "      <th>4</th>\n",
       "      <td>28</td>\n",
       "      <td>Private</td>\n",
       "      <td>Bachelors</td>\n",
       "      <td>13</td>\n",
       "      <td>Married-civ-spouse</td>\n",
       "      <td>Prof-specialty</td>\n",
       "      <td>Wife</td>\n",
       "      <td>Black</td>\n",
       "      <td>Female</td>\n",
       "      <td>0</td>\n",
       "      <td>0</td>\n",
       "      <td>40</td>\n",
       "      <td>Cuba</td>\n",
       "      <td>&lt;=50K</td>\n",
       "    </tr>\n",
       "  </tbody>\n",
       "</table>\n",
       "</div>"
      ],
      "text/plain": [
       "   age         workclass  education  education-num      marital-status  \\\n",
       "0   39         State-gov  Bachelors             13       Never-married   \n",
       "1   50  Self-emp-not-inc  Bachelors             13  Married-civ-spouse   \n",
       "2   38           Private    HS-grad              9            Divorced   \n",
       "3   53           Private       11th              7  Married-civ-spouse   \n",
       "4   28           Private  Bachelors             13  Married-civ-spouse   \n",
       "\n",
       "          occupation   relationship   race     sex  capital-gain  \\\n",
       "0       Adm-clerical  Not-in-family  White    Male          2174   \n",
       "1    Exec-managerial        Husband  White    Male             0   \n",
       "2  Handlers-cleaners  Not-in-family  White    Male             0   \n",
       "3  Handlers-cleaners        Husband  Black    Male             0   \n",
       "4     Prof-specialty           Wife  Black  Female             0   \n",
       "\n",
       "   capital-loss  hours-per-week native-country salary  \n",
       "0             0              40  United-States  <=50K  \n",
       "1             0              13  United-States  <=50K  \n",
       "2             0              40  United-States  <=50K  \n",
       "3             0              40  United-States  <=50K  \n",
       "4             0              40           Cuba  <=50K  "
      ]
     },
     "execution_count": 2,
     "metadata": {},
     "output_type": "execute_result"
    }
   ],
   "source": [
    "#loading dataset\n",
    "data=pd.read_csv(r\"D:\\ICT Academy\\TCS internship\\Activity Report\\salarydata.csv\")\n",
    "data.head()"
   ]
  },
  {
   "cell_type": "markdown",
   "id": "b00f7196",
   "metadata": {},
   "source": [
    "# EDA"
   ]
  },
  {
   "cell_type": "code",
   "execution_count": 3,
   "id": "3ac287ad",
   "metadata": {},
   "outputs": [
    {
     "data": {
      "text/plain": [
       "(32561, 14)"
      ]
     },
     "execution_count": 3,
     "metadata": {},
     "output_type": "execute_result"
    }
   ],
   "source": [
    "data.shape"
   ]
  },
  {
   "cell_type": "code",
   "execution_count": 4,
   "id": "ca284ca4",
   "metadata": {},
   "outputs": [
    {
     "data": {
      "text/plain": [
       "Index(['age', 'workclass', 'education', 'education-num', 'marital-status',\n",
       "       'occupation', 'relationship', 'race', 'sex', 'capital-gain',\n",
       "       'capital-loss', 'hours-per-week', 'native-country', 'salary'],\n",
       "      dtype='object')"
      ]
     },
     "execution_count": 4,
     "metadata": {},
     "output_type": "execute_result"
    }
   ],
   "source": [
    "data.columns"
   ]
  },
  {
   "cell_type": "code",
   "execution_count": 5,
   "id": "878cf5a9",
   "metadata": {},
   "outputs": [
    {
     "data": {
      "image/png": "[encoded data removed]",
      "text/plain": [
       "<Figure size 432x288 with 1 Axes>"
      ]
     },
     "metadata": {
      "needs_background": "light"
     },
     "output_type": "display_data"
    },
    {
     "data": {
      "image/png": "[encoded data removed]",
      "text/plain": [
       "<Figure size 432x288 with 1 Axes>"
      ]
     },
     "metadata": {
      "needs_background": "light"
     },
     "output_type": "display_data"
    },
    {
     "data": {
      "image/png": "[encoded data removed]",
      "text/plain": [
       "<Figure size 432x288 with 1 Axes>"
      ]
     },
     "metadata": {
      "needs_background": "light"
     },
     "output_type": "display_data"
    },
    {
     "data": {
      "image/png": "[encoded data removed]",
      "text/plain": [
       "<Figure size 432x288 with 1 Axes>"
      ]
     },
     "metadata": {
      "needs_background": "light"
     },
     "output_type": "display_data"
    },
    {
     "data": {
      "image/png": "[encoded data removed]",
      "text/plain": [
       "<Figure size 432x288 with 1 Axes>"
      ]
     },
     "metadata": {
      "needs_background": "light"
     },
     "output_type": "display_data"
    },
    {
     "data": {
      "image/png": "[encoded data removed]",
      "text/plain": [
       "<Figure size 432x288 with 1 Axes>"
      ]
     },
     "metadata": {
      "needs_background": "light"
     },
     "output_type": "display_data"
    },
    {
     "data": {
      "image/png": "[encoded data removed]",
      "text/plain": [
       "<Figure size 432x288 with 1 Axes>"
      ]
     },
     "metadata": {
      "needs_background": "light"
     },
     "output_type": "display_data"
    },
    {
     "data": {
      "image/png": "[encoded data removed]",
      "text/plain": [
       "<Figure size 432x288 with 1 Axes>"
      ]
     },
     "metadata": {
      "needs_background": "light"
     },
     "output_type": "display_data"
    },
    {
     "data": {
      "image/png": "[encoded data removed]",
      "text/plain": [
       "<Figure size 432x288 with 1 Axes>"
      ]
     },
     "metadata": {
      "needs_background": "light"
     },
     "output_type": "display_data"
    },
    {
     "data": {
      "image/png": "[encoded data removed]",
      "text/plain": [
       "<Figure size 432x288 with 1 Axes>"
      ]
     },
     "metadata": {
      "needs_background": "light"
     },
     "output_type": "display_data"
    },
    {
     "data": {
      "image/png": "[encoded data removed]",
      "text/plain": [
       "<Figure size 432x288 with 1 Axes>"
      ]
     },
     "metadata": {
      "needs_background": "light"
     },
     "output_type": "display_data"
    },
    {
     "data": {
      "image/png": "[encoded data removed]",
      "text/plain": [
       "<Figure size 432x288 with 1 Axes>"
      ]
     },
     "metadata": {
      "needs_background": "light"
     },
     "output_type": "display_data"
    },
    {
     "data": {
      "image/png": "[encoded data removed]",
      "text/plain": [
       "<Figure size 432x288 with 1 Axes>"
      ]
     },
     "metadata": {
      "needs_background": "light"
     },
     "output_type": "display_data"
    },
    {
     "data": {
      "image/png": "[encoded data removed]",
      "text/plain": [
       "<Figure size 432x288 with 1 Axes>"
      ]
     },
     "metadata": {
      "needs_background": "light"
     },
     "output_type": "display_data"
    }
   ],
   "source": [
    "cols=data.columns\n",
    "for i in cols:\n",
    "    plt.hist(data[i])\n",
    "    plt.xlabel(i)\n",
    "    plt.show()"
   ]
  },
  {
   "cell_type": "code",
   "execution_count": 6,
   "id": "4201d381",
   "metadata": {},
   "outputs": [
    {
     "name": "stdout",
     "output_type": "stream",
     "text": [
      "<class 'pandas.core.frame.DataFrame'>\n",
      "RangeIndex: 32561 entries, 0 to 32560\n",
      "Data columns (total 14 columns):\n",
      " #   Column          Non-Null Count  Dtype \n",
      "---  ------          --------------  ----- \n",
      " 0   age             32561 non-null  int64 \n",
      " 1   workclass       32561 non-null  object\n",
      " 2   education       32561 non-null  object\n",
      " 3   education-num   32561 non-null  int64 \n",
      " 4   marital-status  32561 non-null  object\n",
      " 5   occupation      32561 non-null  object\n",
      " 6   relationship    32561 non-null  object\n",
      " 7   race            32561 non-null  object\n",
      " 8   sex             32561 non-null  object\n",
      " 9   capital-gain    32561 non-null  int64 \n",
      " 10  capital-loss    32561 non-null  int64 \n",
      " 11  hours-per-week  32561 non-null  int64 \n",
      " 12  native-country  32561 non-null  object\n",
      " 13  salary          32561 non-null  object\n",
      "dtypes: int64(5), object(9)\n",
      "memory usage: 3.5+ MB\n"
     ]
    }
   ],
   "source": [
    "data.info()"
   ]
  },
  {
   "cell_type": "code",
   "execution_count": 7,
   "id": "6fbce978",
   "metadata": {},
   "outputs": [
    {
     "data": {
      "text/plain": [
       "age               0\n",
       "workclass         0\n",
       "education         0\n",
       "education-num     0\n",
       "marital-status    0\n",
       "occupation        0\n",
       "relationship      0\n",
       "race              0\n",
       "sex               0\n",
       "capital-gain      0\n",
       "capital-loss      0\n",
       "hours-per-week    0\n",
       "native-country    0\n",
       "salary            0\n",
       "dtype: int64"
      ]
     },
     "execution_count": 7,
     "metadata": {},
     "output_type": "execute_result"
    }
   ],
   "source": [
    "data.isnull().sum()"
   ]
  },
  {
   "cell_type": "code",
   "execution_count": 8,
   "id": "60f98b6a",
   "metadata": {},
   "outputs": [
    {
     "data": {
      "text/plain": [
       "3465"
      ]
     },
     "execution_count": 8,
     "metadata": {},
     "output_type": "execute_result"
    }
   ],
   "source": [
    "data.duplicated().sum()"
   ]
  },
  {
   "cell_type": "code",
   "execution_count": 9,
   "id": "53d8c2b4",
   "metadata": {},
   "outputs": [
    {
     "data": {
      "text/html": [
       "<div>\n",
       "<style scoped>\n",
       "    .dataframe tbody tr th:only-of-type {\n",
       "        vertical-align: middle;\n",
       "    }\n",
       "\n",
       "    .dataframe tbody tr th {\n",
       "        vertical-align: top;\n",
       "    }\n",
       "\n",
       "    .dataframe thead th {\n",
       "        text-align: right;\n",
       "    }\n",
       "</style>\n",
       "<table border=\"1\" class=\"dataframe\">\n",
       "  <thead>\n",
       "    <tr style=\"text-align: right;\">\n",
       "      <th></th>\n",
       "      <th>age</th>\n",
       "      <th>education-num</th>\n",
       "      <th>capital-gain</th>\n",
       "      <th>capital-loss</th>\n",
       "      <th>hours-per-week</th>\n",
       "    </tr>\n",
       "  </thead>\n",
       "  <tbody>\n",
       "    <tr>\n",
       "      <th>count</th>\n",
       "      <td>32561.000000</td>\n",
       "      <td>32561.000000</td>\n",
       "      <td>32561.000000</td>\n",
       "      <td>32561.000000</td>\n",
       "      <td>32561.000000</td>\n",
       "    </tr>\n",
       "    <tr>\n",
       "      <th>mean</th>\n",
       "      <td>38.581647</td>\n",
       "      <td>10.080679</td>\n",
       "      <td>1077.648844</td>\n",
       "      <td>87.303830</td>\n",
       "      <td>40.437456</td>\n",
       "    </tr>\n",
       "    <tr>\n",
       "      <th>std</th>\n",
       "      <td>13.640433</td>\n",
       "      <td>2.572720</td>\n",
       "      <td>7385.292085</td>\n",
       "      <td>402.960219</td>\n",
       "      <td>12.347429</td>\n",
       "    </tr>\n",
       "    <tr>\n",
       "      <th>min</th>\n",
       "      <td>17.000000</td>\n",
       "      <td>1.000000</td>\n",
       "      <td>0.000000</td>\n",
       "      <td>0.000000</td>\n",
       "      <td>1.000000</td>\n",
       "    </tr>\n",
       "    <tr>\n",
       "      <th>25%</th>\n",
       "      <td>28.000000</td>\n",
       "      <td>9.000000</td>\n",
       "      <td>0.000000</td>\n",
       "      <td>0.000000</td>\n",
       "      <td>40.000000</td>\n",
       "    </tr>\n",
       "    <tr>\n",
       "      <th>50%</th>\n",
       "      <td>37.000000</td>\n",
       "      <td>10.000000</td>\n",
       "      <td>0.000000</td>\n",
       "      <td>0.000000</td>\n",
       "      <td>40.000000</td>\n",
       "    </tr>\n",
       "    <tr>\n",
       "      <th>75%</th>\n",
       "      <td>48.000000</td>\n",
       "      <td>12.000000</td>\n",
       "      <td>0.000000</td>\n",
       "      <td>0.000000</td>\n",
       "      <td>45.000000</td>\n",
       "    </tr>\n",
       "    <tr>\n",
       "      <th>max</th>\n",
       "      <td>90.000000</td>\n",
       "      <td>16.000000</td>\n",
       "      <td>99999.000000</td>\n",
       "      <td>4356.000000</td>\n",
       "      <td>99.000000</td>\n",
       "    </tr>\n",
       "  </tbody>\n",
       "</table>\n",
       "</div>"
      ],
      "text/plain": [
       "                age  education-num  capital-gain  capital-loss  hours-per-week\n",
       "count  32561.000000   32561.000000  32561.000000  32561.000000    32561.000000\n",
       "mean      38.581647      10.080679   1077.648844     87.303830       40.437456\n",
       "std       13.640433       2.572720   7385.292085    402.960219       12.347429\n",
       "min       17.000000       1.000000      0.000000      0.000000        1.000000\n",
       "25%       28.000000       9.000000      0.000000      0.000000       40.000000\n",
       "50%       37.000000      10.000000      0.000000      0.000000       40.000000\n",
       "75%       48.000000      12.000000      0.000000      0.000000       45.000000\n",
       "max       90.000000      16.000000  99999.000000   4356.000000       99.000000"
      ]
     },
     "execution_count": 9,
     "metadata": {},
     "output_type": "execute_result"
    }
   ],
   "source": [
    "data.describe()"
   ]
  },
  {
   "cell_type": "markdown",
   "id": "a7d56b9e",
   "metadata": {},
   "source": [
    "# Preprocessing"
   ]
  },
  {
   "cell_type": "code",
   "execution_count": 10,
   "id": "52e89f92",
   "metadata": {},
   "outputs": [],
   "source": [
    "#handling duplicate values\n",
    "duplicateindex=data[data.duplicated()].index\n",
    "#droping duplicate values\n",
    "data=data.drop(duplicateindex,axis=0)"
   ]
  },
  {
   "cell_type": "code",
   "execution_count": 11,
   "id": "6dc539ef",
   "metadata": {},
   "outputs": [
    {
     "name": "stdout",
     "output_type": "stream",
     "text": [
      "age\n",
      "73\n",
      "[39 50 38 53 28 37 49 52 31 42 30 23 32 40 34 25 43 54 35 59 56 19 20 45\n",
      " 22 48 21 24 57 44 41 29 18 47 46 36 79 27 67 33 76 17 55 61 70 64 71 68\n",
      " 66 51 58 26 60 90 75 65 77 62 63 80 72 74 69 73 81 78 88 82 83 84 85 86\n",
      " 87]\n",
      "workclass\n",
      "9\n",
      "['State-gov' 'Self-emp-not-inc' 'Private' 'Federal-gov' 'Local-gov' '?'\n",
      " 'Self-emp-inc' 'Without-pay' 'Never-worked']\n",
      "education\n",
      "16\n",
      "['Bachelors' 'HS-grad' '11th' 'Masters' '9th' 'Some-college' 'Assoc-acdm'\n",
      " 'Assoc-voc' '7th-8th' 'Doctorate' 'Prof-school' '5th-6th' '10th'\n",
      " '1st-4th' 'Preschool' '12th']\n",
      "education-num\n",
      "16\n",
      "[13  9  7 14  5 10 12 11  4 16 15  3  6  2  1  8]\n",
      "marital-status\n",
      "7\n",
      "['Never-married' 'Married-civ-spouse' 'Divorced' 'Married-spouse-absent'\n",
      " 'Separated' 'Married-AF-spouse' 'Widowed']\n",
      "occupation\n",
      "15\n",
      "['Adm-clerical' 'Exec-managerial' 'Handlers-cleaners' 'Prof-specialty'\n",
      " 'Other-service' 'Sales' 'Craft-repair' 'Transport-moving'\n",
      " 'Farming-fishing' 'Machine-op-inspct' 'Tech-support' '?'\n",
      " 'Protective-serv' 'Armed-Forces' 'Priv-house-serv']\n",
      "relationship\n",
      "6\n",
      "['Not-in-family' 'Husband' 'Wife' 'Own-child' 'Unmarried' 'Other-relative']\n",
      "race\n",
      "5\n",
      "['White' 'Black' 'Asian-Pac-Islander' 'Amer-Indian-Eskimo' 'Other']\n",
      "sex\n",
      "2\n",
      "['Male' 'Female']\n",
      "capital-gain\n",
      "119\n",
      "[ 2174     0 14084  5178  5013  2407 14344 15024  7688 34095  4064  4386\n",
      "  7298  1409  3674  1055  3464  2050  2176   594 20051  6849  4101  1111\n",
      "  8614  3411  2597 25236  4650  9386  2463  3103 10605  2964  3325  2580\n",
      "  3471  4865 99999  6514  1471  2329  2105  2885 25124 10520  2202  2961\n",
      " 27828  6767  2228  1506 13550  2635  5556  4787  3781  3137  3818  3942\n",
      "   914   401  2829  2977  4934  2062  2354  5455 15020  1424  3273 22040\n",
      "  4416  3908 10566   991  4931  1086  7430  6497   114  7896  2346  3418\n",
      "  3432  2907  1151  2414  2290 15831 41310  4508  2538  3456  6418  1848\n",
      "  3887  5721  9562  1455  2036  1831 11678  2936  2993  7443  6360  1797\n",
      "  1173  4687  6723  2009  6097  2653  1639 18481  7978  2387  5060]\n",
      "capital-loss\n",
      "92\n",
      "[   0 2042 1408 1902 1573 1887 1719 1762 1564 2179 1816 1980 1977 1876\n",
      " 1340 2206 1741 1485 2339 2415 1380 1721 2051 2377 1669 2352 1672  653\n",
      " 2392 1504 2001 1590 1651 1628 1848 1740 2002 1579 2258 1602  419 2547\n",
      " 2174 2205 1726 2444 1138 2238  625  213 1539  880 1668 1092 1594 3004\n",
      " 2231 1844  810 2824 2559 2057 1974  974 2149 1825 1735 1258 2129 2603\n",
      " 2282  323 4356 2246 1617 1648 2489 3770 1755 3683 2267 2080 2457  155\n",
      " 3900 2201 1944 2467 2163 2754 2472 1411]\n",
      "hours-per-week\n",
      "94\n",
      "[40 13 16 45 50 80 30 35 60 20 52 44 15 25 38 43 55 48 58 32 70  2 22 56\n",
      " 41 28 36 24 46 42 12 65  1 10 34 75 98 33 54  8  6 64 19 18 72  5  9 47\n",
      " 37 21 26 14  4 59  7 99 53 39 62 57 78 90 66 11 49 84  3 17 68 27 85 31\n",
      " 51 77 63 23 87 88 73 89 97 94 29 96 67 82 86 91 81 76 92 61 74 95]\n",
      "native-country\n",
      "42\n",
      "['United-States' 'Cuba' 'Jamaica' 'India' '?' 'Mexico' 'South'\n",
      " 'Puerto-Rico' 'Honduras' 'England' 'Canada' 'Germany' 'Iran'\n",
      " 'Philippines' 'Italy' 'Poland' 'Columbia' 'Cambodia' 'Thailand' 'Ecuador'\n",
      " 'Laos' 'Taiwan' 'Haiti' 'Portugal' 'Dominican-Republic' 'El-Salvador'\n",
      " 'France' 'Guatemala' 'China' 'Japan' 'Yugoslavia' 'Peru'\n",
      " 'Outlying-US(Guam-USVI-etc)' 'Scotland' 'Trinadad&Tobago' 'Greece'\n",
      " 'Nicaragua' 'Vietnam' 'Hong' 'Ireland' 'Hungary' 'Holand-Netherlands']\n",
      "salary\n",
      "2\n",
      "['<=50K' '>50K']\n"
     ]
    }
   ],
   "source": [
    "#checking for unique values to find any invalid data is present in it \n",
    "cols=data.columns\n",
    "for i in cols:\n",
    "    print(i)\n",
    "    print(data[i].nunique())\n",
    "    print(data[i].unique())"
   ]
  },
  {
   "cell_type": "code",
   "execution_count": 12,
   "id": "3a341ae8",
   "metadata": {},
   "outputs": [],
   "source": [
    "#replacing the invalid data  with null values\n",
    "data['workclass']=data['workclass'].replace('?',np.nan)\n",
    "data['occupation']=data['occupation'].replace('?',np.nan)\n",
    "data['native-country']=data['native-country'].replace('?',np.nan)"
   ]
  },
  {
   "cell_type": "code",
   "execution_count": 13,
   "id": "90701b44",
   "metadata": {},
   "outputs": [
    {
     "data": {
      "text/plain": [
       "age               0\n",
       "workclass         0\n",
       "education         0\n",
       "education-num     0\n",
       "marital-status    0\n",
       "occupation        0\n",
       "relationship      0\n",
       "race              0\n",
       "sex               0\n",
       "capital-gain      0\n",
       "capital-loss      0\n",
       "hours-per-week    0\n",
       "native-country    0\n",
       "salary            0\n",
       "dtype: int64"
      ]
     },
     "execution_count": 13,
     "metadata": {},
     "output_type": "execute_result"
    }
   ],
   "source": [
    "#handling null values present within the dataset\n",
    "data['occupation']=data['occupation'].fillna(data['occupation'].mode()[0])\n",
    "data['workclass']=data['workclass'].fillna(data['workclass'].mode()[0])\n",
    "data['native-country']=data['native-country'].fillna(data['native-country'].mode()[0])\n",
    "data.isnull().sum()"
   ]
  },
  {
   "cell_type": "code",
   "execution_count": 14,
   "id": "27e2a075",
   "metadata": {},
   "outputs": [
    {
     "data": {
      "image/png": "[encoded data removed]",
      "text/plain": [
       "<Figure size 432x288 with 1 Axes>"
      ]
     },
     "metadata": {
      "needs_background": "light"
     },
     "output_type": "display_data"
    }
   ],
   "source": [
    "#checking for outliers\n",
    "numericcols=['age','education-num','capital-gain','capital-loss','hours-per-week']\n",
    "plt.boxplot(data[numericcols])\n",
    "plt.show()"
   ]
  },
  {
   "cell_type": "code",
   "execution_count": 15,
   "id": "52cf4ec0",
   "metadata": {},
   "outputs": [],
   "source": [
    "#we are not handling the outlires because handling of outlires lead to decrease in the accuracy score in this case"
   ]
  },
  {
   "cell_type": "code",
   "execution_count": 16,
   "id": "a23c69f5",
   "metadata": {},
   "outputs": [
    {
     "data": {
      "text/html": [
       "<div>\n",
       "<style scoped>\n",
       "    .dataframe tbody tr th:only-of-type {\n",
       "        vertical-align: middle;\n",
       "    }\n",
       "\n",
       "    .dataframe tbody tr th {\n",
       "        vertical-align: top;\n",
       "    }\n",
       "\n",
       "    .dataframe thead th {\n",
       "        text-align: right;\n",
       "    }\n",
       "</style>\n",
       "<table border=\"1\" class=\"dataframe\">\n",
       "  <thead>\n",
       "    <tr style=\"text-align: right;\">\n",
       "      <th></th>\n",
       "      <th>age</th>\n",
       "      <th>workclass</th>\n",
       "      <th>education</th>\n",
       "      <th>education-num</th>\n",
       "      <th>marital-status</th>\n",
       "      <th>occupation</th>\n",
       "      <th>relationship</th>\n",
       "      <th>race</th>\n",
       "      <th>sex</th>\n",
       "      <th>capital-gain</th>\n",
       "      <th>capital-loss</th>\n",
       "      <th>hours-per-week</th>\n",
       "      <th>native-country</th>\n",
       "      <th>salary</th>\n",
       "    </tr>\n",
       "  </thead>\n",
       "  <tbody>\n",
       "    <tr>\n",
       "      <th>0</th>\n",
       "      <td>39</td>\n",
       "      <td>State-gov</td>\n",
       "      <td>Bachelors</td>\n",
       "      <td>13</td>\n",
       "      <td>Never-married</td>\n",
       "      <td>Adm-clerical</td>\n",
       "      <td>Not-in-family</td>\n",
       "      <td>White</td>\n",
       "      <td>Male</td>\n",
       "      <td>2174</td>\n",
       "      <td>0</td>\n",
       "      <td>40</td>\n",
       "      <td>United-States</td>\n",
       "      <td>&lt;=50K</td>\n",
       "    </tr>\n",
       "    <tr>\n",
       "      <th>1</th>\n",
       "      <td>50</td>\n",
       "      <td>Self-emp-not-inc</td>\n",
       "      <td>Bachelors</td>\n",
       "      <td>13</td>\n",
       "      <td>Married-civ-spouse</td>\n",
       "      <td>Exec-managerial</td>\n",
       "      <td>Husband</td>\n",
       "      <td>White</td>\n",
       "      <td>Male</td>\n",
       "      <td>0</td>\n",
       "      <td>0</td>\n",
       "      <td>13</td>\n",
       "      <td>United-States</td>\n",
       "      <td>&lt;=50K</td>\n",
       "    </tr>\n",
       "    <tr>\n",
       "      <th>2</th>\n",
       "      <td>38</td>\n",
       "      <td>Private</td>\n",
       "      <td>HS-grad</td>\n",
       "      <td>9</td>\n",
       "      <td>Divorced</td>\n",
       "      <td>Handlers-cleaners</td>\n",
       "      <td>Not-in-family</td>\n",
       "      <td>White</td>\n",
       "      <td>Male</td>\n",
       "      <td>0</td>\n",
       "      <td>0</td>\n",
       "      <td>40</td>\n",
       "      <td>United-States</td>\n",
       "      <td>&lt;=50K</td>\n",
       "    </tr>\n",
       "    <tr>\n",
       "      <th>3</th>\n",
       "      <td>53</td>\n",
       "      <td>Private</td>\n",
       "      <td>11th</td>\n",
       "      <td>7</td>\n",
       "      <td>Married-civ-spouse</td>\n",
       "      <td>Handlers-cleaners</td>\n",
       "      <td>Husband</td>\n",
       "      <td>Black</td>\n",
       "      <td>Male</td>\n",
       "      <td>0</td>\n",
       "      <td>0</td>\n",
       "      <td>40</td>\n",
       "      <td>United-States</td>\n",
       "      <td>&lt;=50K</td>\n",
       "    </tr>\n",
       "    <tr>\n",
       "      <th>4</th>\n",
       "      <td>28</td>\n",
       "      <td>Private</td>\n",
       "      <td>Bachelors</td>\n",
       "      <td>13</td>\n",
       "      <td>Married-civ-spouse</td>\n",
       "      <td>Prof-specialty</td>\n",
       "      <td>Wife</td>\n",
       "      <td>Black</td>\n",
       "      <td>Female</td>\n",
       "      <td>0</td>\n",
       "      <td>0</td>\n",
       "      <td>40</td>\n",
       "      <td>Cuba</td>\n",
       "      <td>&lt;=50K</td>\n",
       "    </tr>\n",
       "  </tbody>\n",
       "</table>\n",
       "</div>"
      ],
      "text/plain": [
       "   age         workclass  education  education-num      marital-status  \\\n",
       "0   39         State-gov  Bachelors             13       Never-married   \n",
       "1   50  Self-emp-not-inc  Bachelors             13  Married-civ-spouse   \n",
       "2   38           Private    HS-grad              9            Divorced   \n",
       "3   53           Private       11th              7  Married-civ-spouse   \n",
       "4   28           Private  Bachelors             13  Married-civ-spouse   \n",
       "\n",
       "          occupation   relationship   race     sex  capital-gain  \\\n",
       "0       Adm-clerical  Not-in-family  White    Male          2174   \n",
       "1    Exec-managerial        Husband  White    Male             0   \n",
       "2  Handlers-cleaners  Not-in-family  White    Male             0   \n",
       "3  Handlers-cleaners        Husband  Black    Male             0   \n",
       "4     Prof-specialty           Wife  Black  Female             0   \n",
       "\n",
       "   capital-loss  hours-per-week native-country salary  \n",
       "0             0              40  United-States  <=50K  \n",
       "1             0              13  United-States  <=50K  \n",
       "2             0              40  United-States  <=50K  \n",
       "3             0              40  United-States  <=50K  \n",
       "4             0              40           Cuba  <=50K  "
      ]
     },
     "execution_count": 16,
     "metadata": {},
     "output_type": "execute_result"
    }
   ],
   "source": [
    "data.head()"
   ]
  },
  {
   "cell_type": "code",
   "execution_count": 17,
   "id": "a4a34fa1",
   "metadata": {},
   "outputs": [
    {
     "data": {
      "text/html": [
       "<div>\n",
       "<style scoped>\n",
       "    .dataframe tbody tr th:only-of-type {\n",
       "        vertical-align: middle;\n",
       "    }\n",
       "\n",
       "    .dataframe tbody tr th {\n",
       "        vertical-align: top;\n",
       "    }\n",
       "\n",
       "    .dataframe thead th {\n",
       "        text-align: right;\n",
       "    }\n",
       "</style>\n",
       "<table border=\"1\" class=\"dataframe\">\n",
       "  <thead>\n",
       "    <tr style=\"text-align: right;\">\n",
       "      <th></th>\n",
       "      <th>age</th>\n",
       "      <th>workclass</th>\n",
       "      <th>education</th>\n",
       "      <th>education-num</th>\n",
       "      <th>marital-status</th>\n",
       "      <th>occupation</th>\n",
       "      <th>relationship</th>\n",
       "      <th>race</th>\n",
       "      <th>sex</th>\n",
       "      <th>hours-per-week</th>\n",
       "      <th>salary</th>\n",
       "    </tr>\n",
       "  </thead>\n",
       "  <tbody>\n",
       "    <tr>\n",
       "      <th>0</th>\n",
       "      <td>39</td>\n",
       "      <td>State-gov</td>\n",
       "      <td>Bachelors</td>\n",
       "      <td>13</td>\n",
       "      <td>Never-married</td>\n",
       "      <td>Adm-clerical</td>\n",
       "      <td>Not-in-family</td>\n",
       "      <td>White</td>\n",
       "      <td>Male</td>\n",
       "      <td>40</td>\n",
       "      <td>&lt;=50K</td>\n",
       "    </tr>\n",
       "    <tr>\n",
       "      <th>1</th>\n",
       "      <td>50</td>\n",
       "      <td>Self-emp-not-inc</td>\n",
       "      <td>Bachelors</td>\n",
       "      <td>13</td>\n",
       "      <td>Married-civ-spouse</td>\n",
       "      <td>Exec-managerial</td>\n",
       "      <td>Husband</td>\n",
       "      <td>White</td>\n",
       "      <td>Male</td>\n",
       "      <td>13</td>\n",
       "      <td>&lt;=50K</td>\n",
       "    </tr>\n",
       "    <tr>\n",
       "      <th>2</th>\n",
       "      <td>38</td>\n",
       "      <td>Private</td>\n",
       "      <td>HS-grad</td>\n",
       "      <td>9</td>\n",
       "      <td>Divorced</td>\n",
       "      <td>Handlers-cleaners</td>\n",
       "      <td>Not-in-family</td>\n",
       "      <td>White</td>\n",
       "      <td>Male</td>\n",
       "      <td>40</td>\n",
       "      <td>&lt;=50K</td>\n",
       "    </tr>\n",
       "    <tr>\n",
       "      <th>3</th>\n",
       "      <td>53</td>\n",
       "      <td>Private</td>\n",
       "      <td>11th</td>\n",
       "      <td>7</td>\n",
       "      <td>Married-civ-spouse</td>\n",
       "      <td>Handlers-cleaners</td>\n",
       "      <td>Husband</td>\n",
       "      <td>Black</td>\n",
       "      <td>Male</td>\n",
       "      <td>40</td>\n",
       "      <td>&lt;=50K</td>\n",
       "    </tr>\n",
       "    <tr>\n",
       "      <th>4</th>\n",
       "      <td>28</td>\n",
       "      <td>Private</td>\n",
       "      <td>Bachelors</td>\n",
       "      <td>13</td>\n",
       "      <td>Married-civ-spouse</td>\n",
       "      <td>Prof-specialty</td>\n",
       "      <td>Wife</td>\n",
       "      <td>Black</td>\n",
       "      <td>Female</td>\n",
       "      <td>40</td>\n",
       "      <td>&lt;=50K</td>\n",
       "    </tr>\n",
       "  </tbody>\n",
       "</table>\n",
       "</div>"
      ],
      "text/plain": [
       "   age         workclass  education  education-num      marital-status  \\\n",
       "0   39         State-gov  Bachelors             13       Never-married   \n",
       "1   50  Self-emp-not-inc  Bachelors             13  Married-civ-spouse   \n",
       "2   38           Private    HS-grad              9            Divorced   \n",
       "3   53           Private       11th              7  Married-civ-spouse   \n",
       "4   28           Private  Bachelors             13  Married-civ-spouse   \n",
       "\n",
       "          occupation   relationship   race     sex  hours-per-week salary  \n",
       "0       Adm-clerical  Not-in-family  White    Male              40  <=50K  \n",
       "1    Exec-managerial        Husband  White    Male              13  <=50K  \n",
       "2  Handlers-cleaners  Not-in-family  White    Male              40  <=50K  \n",
       "3  Handlers-cleaners        Husband  Black    Male              40  <=50K  \n",
       "4     Prof-specialty           Wife  Black  Female              40  <=50K  "
      ]
     },
     "execution_count": 17,
     "metadata": {},
     "output_type": "execute_result"
    }
   ],
   "source": [
    "data=data.drop(['capital-gain','capital-loss','native-country'],axis=1)\n",
    "data.head()\n",
    "#dropping because they are not related to a employee salary"
   ]
  },
  {
   "cell_type": "code",
   "execution_count": 18,
   "id": "b557e3f1",
   "metadata": {},
   "outputs": [],
   "source": [
    "from sklearn.preprocessing import LabelEncoder\n",
    "LE=LabelEncoder()"
   ]
  },
  {
   "cell_type": "code",
   "execution_count": 19,
   "id": "82d6d637",
   "metadata": {},
   "outputs": [
    {
     "data": {
      "text/plain": [
       "Index(['age', 'workclass', 'education', 'education-num', 'marital-status',\n",
       "       'occupation', 'relationship', 'race', 'sex', 'hours-per-week',\n",
       "       'salary'],\n",
       "      dtype='object')"
      ]
     },
     "execution_count": 19,
     "metadata": {},
     "output_type": "execute_result"
    }
   ],
   "source": [
    "data.columns"
   ]
  },
  {
   "cell_type": "code",
   "execution_count": 20,
   "id": "5d4bc1f7",
   "metadata": {},
   "outputs": [
    {
     "data": {
      "text/html": [
       "<div>\n",
       "<style scoped>\n",
       "    .dataframe tbody tr th:only-of-type {\n",
       "        vertical-align: middle;\n",
       "    }\n",
       "\n",
       "    .dataframe tbody tr th {\n",
       "        vertical-align: top;\n",
       "    }\n",
       "\n",
       "    .dataframe thead th {\n",
       "        text-align: right;\n",
       "    }\n",
       "</style>\n",
       "<table border=\"1\" class=\"dataframe\">\n",
       "  <thead>\n",
       "    <tr style=\"text-align: right;\">\n",
       "      <th></th>\n",
       "      <th>age</th>\n",
       "      <th>workclass</th>\n",
       "      <th>education</th>\n",
       "      <th>education-num</th>\n",
       "      <th>marital-status</th>\n",
       "      <th>occupation</th>\n",
       "      <th>relationship</th>\n",
       "      <th>race</th>\n",
       "      <th>sex</th>\n",
       "      <th>hours-per-week</th>\n",
       "      <th>salary</th>\n",
       "    </tr>\n",
       "  </thead>\n",
       "  <tbody>\n",
       "    <tr>\n",
       "      <th>0</th>\n",
       "      <td>39</td>\n",
       "      <td>6</td>\n",
       "      <td>9</td>\n",
       "      <td>13</td>\n",
       "      <td>4</td>\n",
       "      <td>0</td>\n",
       "      <td>1</td>\n",
       "      <td>4</td>\n",
       "      <td>1</td>\n",
       "      <td>40</td>\n",
       "      <td>&lt;=50K</td>\n",
       "    </tr>\n",
       "    <tr>\n",
       "      <th>1</th>\n",
       "      <td>50</td>\n",
       "      <td>5</td>\n",
       "      <td>9</td>\n",
       "      <td>13</td>\n",
       "      <td>2</td>\n",
       "      <td>3</td>\n",
       "      <td>0</td>\n",
       "      <td>4</td>\n",
       "      <td>1</td>\n",
       "      <td>13</td>\n",
       "      <td>&lt;=50K</td>\n",
       "    </tr>\n",
       "    <tr>\n",
       "      <th>2</th>\n",
       "      <td>38</td>\n",
       "      <td>3</td>\n",
       "      <td>11</td>\n",
       "      <td>9</td>\n",
       "      <td>0</td>\n",
       "      <td>5</td>\n",
       "      <td>1</td>\n",
       "      <td>4</td>\n",
       "      <td>1</td>\n",
       "      <td>40</td>\n",
       "      <td>&lt;=50K</td>\n",
       "    </tr>\n",
       "    <tr>\n",
       "      <th>3</th>\n",
       "      <td>53</td>\n",
       "      <td>3</td>\n",
       "      <td>1</td>\n",
       "      <td>7</td>\n",
       "      <td>2</td>\n",
       "      <td>5</td>\n",
       "      <td>0</td>\n",
       "      <td>2</td>\n",
       "      <td>1</td>\n",
       "      <td>40</td>\n",
       "      <td>&lt;=50K</td>\n",
       "    </tr>\n",
       "    <tr>\n",
       "      <th>4</th>\n",
       "      <td>28</td>\n",
       "      <td>3</td>\n",
       "      <td>9</td>\n",
       "      <td>13</td>\n",
       "      <td>2</td>\n",
       "      <td>9</td>\n",
       "      <td>5</td>\n",
       "      <td>2</td>\n",
       "      <td>0</td>\n",
       "      <td>40</td>\n",
       "      <td>&lt;=50K</td>\n",
       "    </tr>\n",
       "  </tbody>\n",
       "</table>\n",
       "</div>"
      ],
      "text/plain": [
       "   age  workclass  education  education-num  marital-status  occupation  \\\n",
       "0   39          6          9             13               4           0   \n",
       "1   50          5          9             13               2           3   \n",
       "2   38          3         11              9               0           5   \n",
       "3   53          3          1              7               2           5   \n",
       "4   28          3          9             13               2           9   \n",
       "\n",
       "   relationship  race  sex  hours-per-week salary  \n",
       "0             1     4    1              40  <=50K  \n",
       "1             0     4    1              13  <=50K  \n",
       "2             1     4    1              40  <=50K  \n",
       "3             0     2    1              40  <=50K  \n",
       "4             5     2    0              40  <=50K  "
      ]
     },
     "execution_count": 20,
     "metadata": {},
     "output_type": "execute_result"
    }
   ],
   "source": [
    "colencoding=['workclass', 'education','marital-status',\n",
    "       'occupation', 'relationship', 'race', 'sex']\n",
    "codings={}\n",
    "encodings={}\n",
    "for i in colencoding:\n",
    "    codings[i]=data[i].unique()\n",
    "    encodings[i]=LE.fit_transform(data[i].unique())\n",
    "    data[i]=LE.fit_transform(data[i])\n",
    "data.head()"
   ]
  },
  {
   "cell_type": "code",
   "execution_count": 21,
   "id": "b0c76eb6",
   "metadata": {},
   "outputs": [
    {
     "data": {
      "text/plain": [
       "{'workclass': array(['State-gov', 'Self-emp-not-inc', 'Private', 'Federal-gov',\n",
       "        'Local-gov', 'Self-emp-inc', 'Without-pay', 'Never-worked'],\n",
       "       dtype=object),\n",
       " 'education': array(['Bachelors', 'HS-grad', '11th', 'Masters', '9th', 'Some-college',\n",
       "        'Assoc-acdm', 'Assoc-voc', '7th-8th', 'Doctorate', 'Prof-school',\n",
       "        '5th-6th', '10th', '1st-4th', 'Preschool', '12th'], dtype=object),\n",
       " 'marital-status': array(['Never-married', 'Married-civ-spouse', 'Divorced',\n",
       "        'Married-spouse-absent', 'Separated', 'Married-AF-spouse',\n",
       "        'Widowed'], dtype=object),\n",
       " 'occupation': array(['Adm-clerical', 'Exec-managerial', 'Handlers-cleaners',\n",
       "        'Prof-specialty', 'Other-service', 'Sales', 'Craft-repair',\n",
       "        'Transport-moving', 'Farming-fishing', 'Machine-op-inspct',\n",
       "        'Tech-support', 'Protective-serv', 'Armed-Forces',\n",
       "        'Priv-house-serv'], dtype=object),\n",
       " 'relationship': array(['Not-in-family', 'Husband', 'Wife', 'Own-child', 'Unmarried',\n",
       "        'Other-relative'], dtype=object),\n",
       " 'race': array(['White', 'Black', 'Asian-Pac-Islander', 'Amer-Indian-Eskimo',\n",
       "        'Other'], dtype=object),\n",
       " 'sex': array(['Male', 'Female'], dtype=object)}"
      ]
     },
     "execution_count": 21,
     "metadata": {},
     "output_type": "execute_result"
    }
   ],
   "source": [
    "codings"
   ]
  },
  {
   "cell_type": "code",
   "execution_count": 22,
   "id": "84a500df",
   "metadata": {},
   "outputs": [
    {
     "data": {
      "text/plain": [
       "{'workclass': array([6, 5, 3, 0, 1, 4, 7, 2]),\n",
       " 'education': array([ 9, 11,  1, 12,  6, 15,  7,  8,  5, 10, 14,  4,  0,  3, 13,  2]),\n",
       " 'marital-status': array([4, 2, 0, 3, 5, 1, 6]),\n",
       " 'occupation': array([ 0,  3,  5,  9,  7, 11,  2, 13,  4,  6, 12, 10,  1,  8]),\n",
       " 'relationship': array([1, 0, 5, 3, 4, 2]),\n",
       " 'race': array([4, 2, 1, 0, 3]),\n",
       " 'sex': array([1, 0])}"
      ]
     },
     "execution_count": 22,
     "metadata": {},
     "output_type": "execute_result"
    }
   ],
   "source": [
    "encodings"
   ]
  },
  {
   "cell_type": "code",
   "execution_count": 24,
   "id": "753065df",
   "metadata": {},
   "outputs": [
    {
     "data": {
      "text/html": [
       "<div>\n",
       "<style scoped>\n",
       "    .dataframe tbody tr th:only-of-type {\n",
       "        vertical-align: middle;\n",
       "    }\n",
       "\n",
       "    .dataframe tbody tr th {\n",
       "        vertical-align: top;\n",
       "    }\n",
       "\n",
       "    .dataframe thead th {\n",
       "        text-align: right;\n",
       "    }\n",
       "</style>\n",
       "<table border=\"1\" class=\"dataframe\">\n",
       "  <thead>\n",
       "    <tr style=\"text-align: right;\">\n",
       "      <th></th>\n",
       "      <th>age</th>\n",
       "      <th>workclass</th>\n",
       "      <th>education</th>\n",
       "      <th>education-num</th>\n",
       "      <th>marital-status</th>\n",
       "      <th>occupation</th>\n",
       "      <th>relationship</th>\n",
       "      <th>race</th>\n",
       "      <th>sex</th>\n",
       "      <th>hours-per-week</th>\n",
       "      <th>salary</th>\n",
       "    </tr>\n",
       "  </thead>\n",
       "  <tbody>\n",
       "    <tr>\n",
       "      <th>0</th>\n",
       "      <td>-0.018364</td>\n",
       "      <td>6</td>\n",
       "      <td>9</td>\n",
       "      <td>13</td>\n",
       "      <td>4</td>\n",
       "      <td>0</td>\n",
       "      <td>1</td>\n",
       "      <td>4</td>\n",
       "      <td>1</td>\n",
       "      <td>-0.050083</td>\n",
       "      <td>&lt;=50K</td>\n",
       "    </tr>\n",
       "    <tr>\n",
       "      <th>1</th>\n",
       "      <td>0.785323</td>\n",
       "      <td>5</td>\n",
       "      <td>9</td>\n",
       "      <td>13</td>\n",
       "      <td>2</td>\n",
       "      <td>3</td>\n",
       "      <td>0</td>\n",
       "      <td>4</td>\n",
       "      <td>1</td>\n",
       "      <td>-2.170191</td>\n",
       "      <td>&lt;=50K</td>\n",
       "    </tr>\n",
       "    <tr>\n",
       "      <th>2</th>\n",
       "      <td>-0.091426</td>\n",
       "      <td>3</td>\n",
       "      <td>11</td>\n",
       "      <td>9</td>\n",
       "      <td>0</td>\n",
       "      <td>5</td>\n",
       "      <td>1</td>\n",
       "      <td>4</td>\n",
       "      <td>1</td>\n",
       "      <td>-0.050083</td>\n",
       "      <td>&lt;=50K</td>\n",
       "    </tr>\n",
       "    <tr>\n",
       "      <th>3</th>\n",
       "      <td>1.004511</td>\n",
       "      <td>3</td>\n",
       "      <td>1</td>\n",
       "      <td>7</td>\n",
       "      <td>2</td>\n",
       "      <td>5</td>\n",
       "      <td>0</td>\n",
       "      <td>2</td>\n",
       "      <td>1</td>\n",
       "      <td>-0.050083</td>\n",
       "      <td>&lt;=50K</td>\n",
       "    </tr>\n",
       "    <tr>\n",
       "      <th>4</th>\n",
       "      <td>-0.822050</td>\n",
       "      <td>3</td>\n",
       "      <td>9</td>\n",
       "      <td>13</td>\n",
       "      <td>2</td>\n",
       "      <td>9</td>\n",
       "      <td>5</td>\n",
       "      <td>2</td>\n",
       "      <td>0</td>\n",
       "      <td>-0.050083</td>\n",
       "      <td>&lt;=50K</td>\n",
       "    </tr>\n",
       "  </tbody>\n",
       "</table>\n",
       "</div>"
      ],
      "text/plain": [
       "        age  workclass  education  education-num  marital-status  occupation  \\\n",
       "0 -0.018364          6          9             13               4           0   \n",
       "1  0.785323          5          9             13               2           3   \n",
       "2 -0.091426          3         11              9               0           5   \n",
       "3  1.004511          3          1              7               2           5   \n",
       "4 -0.822050          3          9             13               2           9   \n",
       "\n",
       "   relationship  race  sex  hours-per-week salary  \n",
       "0             1     4    1       -0.050083  <=50K  \n",
       "1             0     4    1       -2.170191  <=50K  \n",
       "2             1     4    1       -0.050083  <=50K  \n",
       "3             0     2    1       -0.050083  <=50K  \n",
       "4             5     2    0       -0.050083  <=50K  "
      ]
     },
     "execution_count": 24,
     "metadata": {},
     "output_type": "execute_result"
    }
   ],
   "source": [
    "from sklearn.preprocessing import StandardScaler\n",
    "SS=StandardScaler()\n",
    "data['age']=SS.fit_transform(data[['age']])\n",
    "data['hours-per-week']=SS.fit_transform(data[['hours-per-week']])\n",
    "data.head()"
   ]
  },
  {
   "cell_type": "code",
   "execution_count": 25,
   "id": "c4427137",
   "metadata": {},
   "outputs": [
    {
     "data": {
      "text/plain": [
       "<AxesSubplot:>"
      ]
     },
     "execution_count": 25,
     "metadata": {},
     "output_type": "execute_result"
    },
    {
     "data": {
      "image/png": "[encoded data removed]",
      "text/plain": [
       "<Figure size 1440x432 with 2 Axes>"
      ]
     },
     "metadata": {
      "needs_background": "light"
     },
     "output_type": "display_data"
    }
   ],
   "source": [
    "#checking for non correlated values within the data\n",
    "corr=data.corr()\n",
    "plt.subplots(figsize=(20,6))\n",
    "sns.heatmap(corr,annot=True, cmap='coolwarm')"
   ]
  },
  {
   "cell_type": "markdown",
   "id": "8c6b57a9",
   "metadata": {},
   "source": [
    "# Splitting of data and Model Building"
   ]
  },
  {
   "cell_type": "code",
   "execution_count": 26,
   "id": "e216f074",
   "metadata": {},
   "outputs": [],
   "source": [
    "X=data.drop('salary',axis=1)\n",
    "Y=data['salary']\n",
    "from sklearn.model_selection import train_test_split\n",
    "X_train,X_test,Y_train,Y_test=train_test_split(X,Y,random_state=42,test_size=0.20)"
   ]
  },
  {
   "cell_type": "markdown",
   "id": "5c15cca3",
   "metadata": {},
   "source": [
    "# Logistic Regression"
   ]
  },
  {
   "cell_type": "code",
   "execution_count": 27,
   "id": "546e6f9d",
   "metadata": {},
   "outputs": [],
   "source": [
    "#Logistic Regression\n",
    "from sklearn.linear_model import LogisticRegression\n",
    "LR=LogisticRegression()\n",
    "model_lr=LR.fit(X_train,Y_train)\n",
    "y_model_lr=model_lr.predict(X_test)\n"
   ]
  },
  {
   "cell_type": "code",
   "execution_count": 28,
   "id": "92d6c828",
   "metadata": {},
   "outputs": [],
   "source": [
    "#now import accuracy matrices\n",
    "from sklearn.metrics import confusion_matrix,accuracy_score,precision_score,recall_score,f1_score;"
   ]
  },
  {
   "cell_type": "code",
   "execution_count": 29,
   "id": "5ab6473d",
   "metadata": {},
   "outputs": [
    {
     "data": {
      "text/plain": [
       "array([[4078,  319],\n",
       "       [ 905,  518]], dtype=int64)"
      ]
     },
     "execution_count": 29,
     "metadata": {},
     "output_type": "execute_result"
    }
   ],
   "source": [
    "confusion_matrix(Y_test,y_model_lr)"
   ]
  },
  {
   "cell_type": "code",
   "execution_count": 30,
   "id": "dd8f28ac",
   "metadata": {},
   "outputs": [
    {
     "name": "stdout",
     "output_type": "stream",
     "text": [
      "              precision    recall  f1-score   support\n",
      "\n",
      "       <=50K       0.82      0.93      0.87      4397\n",
      "        >50K       0.62      0.36      0.46      1423\n",
      "\n",
      "    accuracy                           0.79      5820\n",
      "   macro avg       0.72      0.65      0.66      5820\n",
      "weighted avg       0.77      0.79      0.77      5820\n",
      "\n"
     ]
    }
   ],
   "source": [
    "from sklearn.metrics import classification_report\n",
    "print(classification_report(Y_test,y_model_lr))"
   ]
  },
  {
   "cell_type": "code",
   "execution_count": 31,
   "id": "8b0f7217",
   "metadata": {},
   "outputs": [
    {
     "name": "stdout",
     "output_type": "stream",
     "text": [
      "Accuracy Score= 0.7896907216494845\n",
      "F1 Score <=50K= 0.8695095948827293\n",
      "F1 Score >50K= 0.4584070796460177\n"
     ]
    }
   ],
   "source": [
    "print('Accuracy Score=',accuracy_score(Y_test,y_model_lr))\n",
    "print('F1 Score <=50K=',f1_score(Y_test,y_model_lr,pos_label='<=50K'))\n",
    "print('F1 Score >50K=',f1_score(Y_test,y_model_lr,pos_label='>50K'))"
   ]
  },
  {
   "cell_type": "markdown",
   "id": "119f403c",
   "metadata": {},
   "source": [
    "# Decision Tree Classifier"
   ]
  },
  {
   "cell_type": "code",
   "execution_count": 32,
   "id": "8eb75425",
   "metadata": {},
   "outputs": [
    {
     "name": "stdout",
     "output_type": "stream",
     "text": [
      "Confusion Matrix\n",
      "[[3713  684]\n",
      " [ 737  686]]\n",
      "Classification Report\n",
      "              precision    recall  f1-score   support\n",
      "\n",
      "       <=50K       0.83      0.84      0.84      4397\n",
      "        >50K       0.50      0.48      0.49      1423\n",
      "\n",
      "    accuracy                           0.76      5820\n",
      "   macro avg       0.67      0.66      0.67      5820\n",
      "weighted avg       0.75      0.76      0.75      5820\n",
      "\n",
      "Accuracy Score= 0.7558419243986254\n",
      "F1 Score <=50K= 0.8393805809879055\n",
      "F1 Score >50K= 0.4912280701754385\n"
     ]
    }
   ],
   "source": [
    "from sklearn.tree import DecisionTreeClassifier\n",
    "DTC=DecisionTreeClassifier()\n",
    "model_DTC=DTC.fit(X_train,Y_train)\n",
    "y_model_DTC=model_DTC.predict(X_test)\n",
    "print(\"Confusion Matrix\")\n",
    "print(confusion_matrix(Y_test,y_model_DTC))\n",
    "print(\"Classification Report\")\n",
    "print(classification_report(Y_test,y_model_DTC))\n",
    "print('Accuracy Score=',accuracy_score(Y_test,y_model_DTC))\n",
    "print('F1 Score <=50K=',f1_score(Y_test,y_model_DTC,pos_label='<=50K'))\n",
    "print('F1 Score >50K=',f1_score(Y_test,y_model_DTC,pos_label='>50K'))"
   ]
  },
  {
   "cell_type": "markdown",
   "id": "f4092f26",
   "metadata": {},
   "source": [
    "# Random Forest Classifier"
   ]
  },
  {
   "cell_type": "code",
   "execution_count": 33,
   "id": "0399e135",
   "metadata": {},
   "outputs": [
    {
     "name": "stdout",
     "output_type": "stream",
     "text": [
      "Confusion Matrix\n",
      "[[3718  679]\n",
      " [ 730  693]]\n",
      "Classification Report\n",
      "              precision    recall  f1-score   support\n",
      "\n",
      "       <=50K       0.84      0.85      0.84      4397\n",
      "        >50K       0.51      0.49      0.50      1423\n",
      "\n",
      "    accuracy                           0.76      5820\n",
      "   macro avg       0.67      0.67      0.67      5820\n",
      "weighted avg       0.76      0.76      0.76      5820\n",
      "\n",
      "Accuracy Score= 0.7579037800687285\n",
      "F1 Score <=50K= 0.8407009609949123\n",
      "F1 Score >50K= 0.49588550983899815\n"
     ]
    }
   ],
   "source": [
    "from sklearn.ensemble import RandomForestClassifier\n",
    "RFC=DecisionTreeClassifier()\n",
    "model_RFC=RFC.fit(X_train,Y_train)\n",
    "y_model_RFC=model_RFC.predict(X_test)\n",
    "print(\"Confusion Matrix\")\n",
    "print(confusion_matrix(Y_test,y_model_RFC))\n",
    "print(\"Classification Report\")\n",
    "print(classification_report(Y_test,y_model_RFC))\n",
    "print('Accuracy Score=',accuracy_score(Y_test,y_model_RFC))\n",
    "print('F1 Score <=50K=',f1_score(Y_test,y_model_RFC,pos_label='<=50K'))\n",
    "print('F1 Score >50K=',f1_score(Y_test,y_model_RFC,pos_label='>50K'))"
   ]
  },
  {
   "cell_type": "markdown",
   "id": "b3aa2428",
   "metadata": {},
   "source": [
    "# SVM"
   ]
  },
  {
   "cell_type": "code",
   "execution_count": 34,
   "id": "8856953c",
   "metadata": {},
   "outputs": [
    {
     "name": "stdout",
     "output_type": "stream",
     "text": [
      "Confusion Matrix\n",
      "[[4115  282]\n",
      " [ 919  504]]\n",
      "Classification Report\n",
      "              precision    recall  f1-score   support\n",
      "\n",
      "       <=50K       0.82      0.94      0.87      4397\n",
      "        >50K       0.64      0.35      0.46      1423\n",
      "\n",
      "    accuracy                           0.79      5820\n",
      "   macro avg       0.73      0.65      0.66      5820\n",
      "weighted avg       0.77      0.79      0.77      5820\n",
      "\n",
      "Accuracy Score= 0.7936426116838488\n",
      "F1 Score <=50K= 0.8726540133601951\n",
      "F1 Score >50K= 0.4563150746944319\n"
     ]
    }
   ],
   "source": [
    "from sklearn.svm import SVC\n",
    "svc_l=SVC(kernel='linear')\n",
    "model_svc=svc_l.fit(X_train,Y_train)\n",
    "y_model_svc=model_svc.predict(X_test)\n",
    "print(\"Confusion Matrix\")\n",
    "print(confusion_matrix(Y_test,y_model_svc))\n",
    "print(\"Classification Report\")\n",
    "print(classification_report(Y_test,y_model_svc))\n",
    "print('Accuracy Score=',accuracy_score(Y_test,y_model_svc))\n",
    "print('F1 Score <=50K=',f1_score(Y_test,y_model_svc,pos_label='<=50K'))\n",
    "print('F1 Score >50K=',f1_score(Y_test,y_model_svc,pos_label='>50K'))"
   ]
  },
  {
   "cell_type": "code",
   "execution_count": 35,
   "id": "5007b98c",
   "metadata": {},
   "outputs": [
    {
     "name": "stdout",
     "output_type": "stream",
     "text": [
      "Confusion Matrix\n",
      "[[4160  237]\n",
      " [ 879  544]]\n",
      "Classification Report\n",
      "              precision    recall  f1-score   support\n",
      "\n",
      "       <=50K       0.83      0.95      0.88      4397\n",
      "        >50K       0.70      0.38      0.49      1423\n",
      "\n",
      "    accuracy                           0.81      5820\n",
      "   macro avg       0.76      0.66      0.69      5820\n",
      "weighted avg       0.79      0.81      0.79      5820\n",
      "\n",
      "Accuracy Score= 0.8082474226804124\n",
      "F1 Score <=50K= 0.8817295464179736\n",
      "F1 Score >50K= 0.4936479128856624\n"
     ]
    }
   ],
   "source": [
    "from sklearn.svm import SVC\n",
    "svc_r=SVC(kernel='rbf')\n",
    "model_svc_rfb=svc_r.fit(X_train,Y_train)\n",
    "y_model_svc_rfb=model_svc_rfb.predict(X_test)\n",
    "print(\"Confusion Matrix\")\n",
    "print(confusion_matrix(Y_test,y_model_svc_rfb))\n",
    "print(\"Classification Report\")\n",
    "print(classification_report(Y_test,y_model_svc_rfb))\n",
    "print('Accuracy Score=',accuracy_score(Y_test,y_model_svc_rfb))\n",
    "print('F1 Score <=50K=',f1_score(Y_test,y_model_svc_rfb,pos_label='<=50K'))\n",
    "print('F1 Score >50K=',f1_score(Y_test,y_model_svc_rfb,pos_label='>50K'))"
   ]
  },
  {
   "cell_type": "markdown",
   "id": "5b886fba",
   "metadata": {},
   "source": [
    "# KNN"
   ]
  },
  {
   "cell_type": "code",
   "execution_count": 36,
   "id": "9103cfa8",
   "metadata": {},
   "outputs": [
    {
     "data": {
      "image/png": "[encoded data removed]",
      "text/plain": [
       "<Figure size 432x288 with 1 Axes>"
      ]
     },
     "metadata": {
      "needs_background": "light"
     },
     "output_type": "display_data"
    }
   ],
   "source": [
    "from sklearn.neighbors import KNeighborsClassifier\n",
    "metric_k=[]\n",
    "neighbors=range(3,18)\n",
    "for k in neighbors:\n",
    "    classifier=KNeighborsClassifier(n_neighbors=k)\n",
    "    classifier=classifier.fit(X_train,Y_train)\n",
    "    y_pred_KNN=classifier.predict(X_test)\n",
    "    acc=accuracy_score(Y_test,y_pred_KNN)\n",
    "    metric_k.append(acc)\n",
    "plt.plot(neighbors,metric_k,'o-')\n",
    "plt.xlabel('K Values')\n",
    "plt.ylabel('accuracies')\n",
    "plt.grid()"
   ]
  },
  {
   "cell_type": "code",
   "execution_count": 37,
   "id": "c8b12423",
   "metadata": {},
   "outputs": [],
   "source": [
    "classifier=KNeighborsClassifier(n_neighbors=17)\n",
    "classifier=classifier.fit(X_train,Y_train)\n",
    "y_pred_KNN=classifier.predict(X_test)\n",
    "acc=accuracy_score(Y_test,y_pred_KNN)"
   ]
  },
  {
   "cell_type": "code",
   "execution_count": 38,
   "id": "f1b3f68e",
   "metadata": {},
   "outputs": [
    {
     "name": "stdout",
     "output_type": "stream",
     "text": [
      "Confusion Matrix\n",
      "[[3959  438]\n",
      " [ 555  868]]\n",
      "Classification Report\n",
      "              precision    recall  f1-score   support\n",
      "\n",
      "       <=50K       0.88      0.90      0.89      4397\n",
      "        >50K       0.66      0.61      0.64      1423\n",
      "\n",
      "    accuracy                           0.83      5820\n",
      "   macro avg       0.77      0.76      0.76      5820\n",
      "weighted avg       0.83      0.83      0.83      5820\n",
      "\n",
      "Accuracy Score= 0.8293814432989691\n",
      "F1 Score <=50K= 0.8885646953203904\n",
      "F1 Score >50K= 0.6361304507145473\n"
     ]
    }
   ],
   "source": [
    "print(\"Confusion Matrix\")\n",
    "print(confusion_matrix(Y_test,y_pred_KNN))\n",
    "print(\"Classification Report\")\n",
    "print(classification_report(Y_test,y_pred_KNN))\n",
    "print('Accuracy Score=',accuracy_score(Y_test,y_pred_KNN))\n",
    "print('F1 Score <=50K=',f1_score(Y_test,y_pred_KNN,pos_label='<=50K'))\n",
    "print('F1 Score >50K=',f1_score(Y_test,y_pred_KNN,pos_label='>50K'))"
   ]
  },
  {
   "cell_type": "markdown",
   "id": "e5bcb26d",
   "metadata": {},
   "source": [
    "# KFold Cross Validation"
   ]
  },
  {
   "cell_type": "code",
   "execution_count": 40,
   "id": "8e8058cb",
   "metadata": {},
   "outputs": [],
   "source": [
    "from sklearn.model_selection import KFold\n",
    "Kfold_validator=KFold(10)"
   ]
  },
  {
   "cell_type": "code",
   "execution_count": 41,
   "id": "2835ce23",
   "metadata": {},
   "outputs": [
    {
     "name": "stdout",
     "output_type": "stream",
     "text": [
      "Train Index= [ 2910  2911  2912 ... 29093 29094 29095]\n",
      "\n",
      "Test Index= [   0    1    2 ... 2907 2908 2909]\n",
      "\n",
      "Train Index= [    0     1     2 ... 29093 29094 29095]\n",
      "\n",
      "Test Index= [2910 2911 2912 ... 5817 5818 5819]\n",
      "\n",
      "Train Index= [    0     1     2 ... 29093 29094 29095]\n",
      "\n",
      "Test Index= [5820 5821 5822 ... 8727 8728 8729]\n",
      "\n",
      "Train Index= [    0     1     2 ... 29093 29094 29095]\n",
      "\n",
      "Test Index= [ 8730  8731  8732 ... 11637 11638 11639]\n",
      "\n",
      "Train Index= [    0     1     2 ... 29093 29094 29095]\n",
      "\n",
      "Test Index= [11640 11641 11642 ... 14547 14548 14549]\n",
      "\n",
      "Train Index= [    0     1     2 ... 29093 29094 29095]\n",
      "\n",
      "Test Index= [14550 14551 14552 ... 17457 17458 17459]\n",
      "\n",
      "Train Index= [    0     1     2 ... 29093 29094 29095]\n",
      "\n",
      "Test Index= [17460 17461 17462 ... 20366 20367 20368]\n",
      "\n",
      "Train Index= [    0     1     2 ... 29093 29094 29095]\n",
      "\n",
      "Test Index= [20369 20370 20371 ... 23275 23276 23277]\n",
      "\n",
      "Train Index= [    0     1     2 ... 29093 29094 29095]\n",
      "\n",
      "Test Index= [23278 23279 23280 ... 26184 26185 26186]\n",
      "\n",
      "Train Index= [    0     1     2 ... 26184 26185 26186]\n",
      "\n",
      "Test Index= [26187 26188 26189 ... 29093 29094 29095]\n",
      "\n"
     ]
    }
   ],
   "source": [
    "for train_index,test_index in Kfold_validator.split(X,Y):\n",
    "    print(\"Train Index=\",train_index)\n",
    "    print()\n",
    "    print(\"Test Index=\",test_index)\n",
    "    print()"
   ]
  },
  {
   "cell_type": "code",
   "execution_count": 42,
   "id": "e3ef669d",
   "metadata": {},
   "outputs": [
    {
     "name": "stdout",
     "output_type": "stream",
     "text": [
      "LR [0.79415808 0.80206186 0.80893471 0.79621993 0.80103093 0.8024055\n",
      " 0.78996219 0.79614988 0.80027501 0.7793056 ]\n",
      "Mean= 0.7970503674459759\n",
      "\n",
      "Decision Tree Classifier [0.76082474 0.75051546 0.75532646 0.74570447 0.76769759 0.7556701\n",
      " 0.76246133 0.75971124 0.76521141 0.75971124]\n",
      "Mean= 0.7582834053340799\n",
      "\n",
      "Random Forest Classifier [0.76391753 0.75120275 0.76116838 0.74604811 0.76632302 0.75292096\n",
      " 0.760055   0.75558611 0.7662427  0.76246133]\n",
      "Mean= 0.7585925891799239\n",
      "\n",
      "Scaler Vector Machine_Linear [0.79415808 0.804811   0.81477663 0.80068729 0.80206186 0.80721649\n",
      " 0.79030595 0.79821244 0.80336886 0.77999312]\n",
      "Mean= 0.7995591711467788\n",
      "\n",
      "Scaler Vector Machine_rbf [0.80068729 0.8137457  0.82439863 0.81168385 0.81512027 0.81786942\n",
      " 0.80715022 0.81333792 0.81333792 0.79408732]\n",
      "Mean= 0.8111418526932059\n",
      "\n",
      "KNN [0.81890034 0.82164948 0.83608247 0.81546392 0.82474227 0.82233677\n",
      " 0.82433826 0.82708835 0.83293228 0.80336886]\n",
      "Mean= 0.822690299922388\n",
      "\n"
     ]
    }
   ],
   "source": [
    "from sklearn.model_selection import cross_val_score\n",
    "cv_results_lr=cross_val_score(LR,X,Y,cv=Kfold_validator)\n",
    "print(\"LR\",cv_results_lr)\n",
    "print(\"Mean=\",np.mean(cv_results_lr))\n",
    "print()\n",
    "cv_results_dtc=cross_val_score(DTC,X,Y,cv=Kfold_validator)\n",
    "print(\"Decision Tree Classifier\",cv_results_dtc)\n",
    "print(\"Mean=\",np.mean(cv_results_dtc))\n",
    "print()\n",
    "cv_results_rfc=cross_val_score(RFC,X,Y,cv=Kfold_validator)\n",
    "print(\"Random Forest Classifier\",cv_results_rfc)\n",
    "print(\"Mean=\",np.mean(cv_results_rfc))\n",
    "print()\n",
    "cv_results_svcl=cross_val_score(svc_l,X,Y,cv=Kfold_validator)\n",
    "print(\"Scaler Vector Machine_Linear\",cv_results_svcl)\n",
    "print(\"Mean=\",np.mean(cv_results_svcl))\n",
    "print()\n",
    "cv_results_svcr=cross_val_score(svc_r,X,Y,cv=Kfold_validator)\n",
    "print(\"Scaler Vector Machine_rbf\",cv_results_svcr)\n",
    "print(\"Mean=\",np.mean(cv_results_svcr))\n",
    "print()\n",
    "cv_results_knn=cross_val_score(classifier,X,Y,cv=Kfold_validator)\n",
    "print(\"KNN\",cv_results_knn)\n",
    "print(\"Mean=\",np.mean(cv_results_knn))\n",
    "print()"
   ]
  },
  {
   "cell_type": "code",
   "execution_count": 43,
   "id": "db675ab1",
   "metadata": {},
   "outputs": [
    {
     "name": "stdout",
     "output_type": "stream",
     "text": [
      "Train Index= [ 4138  4139  4140 ... 29093 29094 29095]\n",
      "\n",
      "Test Index= [   0    1    2 ... 4227 4235 4240]\n",
      "\n",
      "Train Index= [    0     1     2 ... 29093 29094 29095]\n",
      "\n",
      "Test Index= [4138 4139 4140 ... 8507 8512 8515]\n",
      "\n",
      "Train Index= [    0     1     2 ... 29093 29094 29095]\n",
      "\n",
      "Test Index= [ 8238  8239  8240 ... 12666 12668 12671]\n",
      "\n",
      "Train Index= [    0     1     2 ... 29093 29094 29095]\n",
      "\n",
      "Test Index= [12393 12394 12395 ... 16875 16876 16880]\n",
      "\n",
      "Train Index= [    0     1     2 ... 29093 29094 29095]\n",
      "\n",
      "Test Index= [16557 16558 16560 ... 21093 21097 21111]\n",
      "\n",
      "Train Index= [    0     1     2 ... 29093 29094 29095]\n",
      "\n",
      "Test Index= [20679 20681 20682 ... 25128 25132 25136]\n",
      "\n",
      "Train Index= [    0     1     2 ... 25128 25132 25136]\n",
      "\n",
      "Test Index= [24887 24888 24889 ... 29093 29094 29095]\n",
      "\n"
     ]
    }
   ],
   "source": [
    "from sklearn.model_selection import StratifiedKFold\n",
    "sfold_validator=StratifiedKFold(n_splits=7)\n",
    "for train_index, test_index in sfold_validator.split(X,Y):\n",
    "    print(\"Train Index=\",train_index)\n",
    "    print()\n",
    "    print(\"Test Index=\",test_index)\n",
    "    print()"
   ]
  },
  {
   "cell_type": "code",
   "execution_count": 44,
   "id": "ca70756d",
   "metadata": {},
   "outputs": [
    {
     "name": "stdout",
     "output_type": "stream",
     "text": [
      "StratifiedKFold Method\n",
      "LR [0.79415808 0.80206186 0.80893471 0.79621993 0.80103093 0.8024055\n",
      " 0.78996219 0.79614988 0.80027501 0.7793056 ]\n",
      "Mean= 0.7970165388403421\n",
      "\n",
      "Decision Tree Classifier [0.75583353 0.75679577 0.75102237 0.75727688 0.75962464 0.77165544\n",
      " 0.75914341]\n",
      "Mean= 0.7587645769093136\n",
      "\n",
      "Random Forest Classifier [0.75366851 0.75222516 0.75222516 0.76088525 0.75769971 0.77213667\n",
      " 0.76010587]\n",
      "Mean= 0.7584209059504506\n",
      "\n",
      "Scaler Vector Machine_Linear [0.79624729 0.8053885  0.79913399 0.80322348 0.79090472 0.80654475\n",
      " 0.79475457]\n",
      "Mean= 0.7994567581031083\n",
      "\n",
      "Scaler Vector Machine_rbf [0.80322348 0.81332692 0.81236469 0.81597306 0.80534167 0.81568816\n",
      " 0.8087103 ]\n",
      "Mean= 0.8106611821758392\n",
      "\n",
      "KNN [0.81958143 0.82992543 0.82006255 0.8277604  0.82242541 0.82651588\n",
      " 0.81737247]\n",
      "Mean= 0.8233776526259745\n",
      "\n"
     ]
    }
   ],
   "source": [
    "print(\"StratifiedKFold Method\")\n",
    "from sklearn.model_selection import cross_val_score\n",
    "cv_results_lr_s=cross_val_score(LR,X,Y,cv=sfold_validator)\n",
    "print(\"LR\",cv_results_lr)\n",
    "print(\"Mean=\",np.mean(cv_results_lr_s))\n",
    "print()\n",
    "cv_results_dtc_s=cross_val_score(DTC,X,Y,cv=sfold_validator)\n",
    "print(\"Decision Tree Classifier\",cv_results_dtc_s)\n",
    "print(\"Mean=\",np.mean(cv_results_dtc_s))\n",
    "print()\n",
    "cv_results_rfc_s=cross_val_score(RFC,X,Y,cv=sfold_validator)\n",
    "print(\"Random Forest Classifier\",cv_results_rfc_s)\n",
    "print(\"Mean=\",np.mean(cv_results_rfc_s))\n",
    "print()\n",
    "cv_results_svcl_s=cross_val_score(svc_l,X,Y,cv=sfold_validator)\n",
    "print(\"Scaler Vector Machine_Linear\",cv_results_svcl_s)\n",
    "print(\"Mean=\",np.mean(cv_results_svcl_s))\n",
    "print()\n",
    "cv_results_svcr_s=cross_val_score(svc_r,X,Y,cv=sfold_validator)\n",
    "print(\"Scaler Vector Machine_rbf\",cv_results_svcr_s)\n",
    "print(\"Mean=\",np.mean(cv_results_svcr_s))\n",
    "print()\n",
    "cv_results_knn_s=cross_val_score(classifier,X,Y,cv=sfold_validator)\n",
    "print(\"KNN\",cv_results_knn_s)\n",
    "print(\"Mean=\",np.mean(cv_results_knn_s))\n",
    "print()"
   ]
  },
  {
   "cell_type": "code",
   "execution_count": 45,
   "id": "7f79084e",
   "metadata": {},
   "outputs": [],
   "source": [
    "#we have completed the processing and model creation and the best model we have got is KNN model with a accuracy score of 0.829 "
   ]
  },
  {
   "cell_type": "code",
   "execution_count": null,
   "id": "9e0daf7b",
   "metadata": {},
   "outputs": [],
   "source": []
  }
 ],
 "metadata": {
  "kernelspec": {
   "display_name": "Python 3 (ipykernel)",
   "language": "python",
   "name": "python3"
  },
  "language_info": {
   "codemirror_mode": {
    "name": "ipython",
    "version": 3
   },
   "file_extension": ".py",
   "mimetype": "text/x-python",
   "name": "python",
   "nbconvert_exporter": "python",
   "pygments_lexer": "ipython3",
   "version": "3.10.4"
  }
 },
 "nbformat": 4,
 "nbformat_minor": 5
}
